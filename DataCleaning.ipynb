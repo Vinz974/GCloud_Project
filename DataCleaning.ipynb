{
 "cells": [
  {
   "cell_type": "code",
   "execution_count": null,
   "outputs": [],
   "source": [
    "import pandas as pd"
   ],
   "metadata": {
    "collapsed": false,
    "pycharm": {
     "name": "#%%\n"
    }
   }
  },
  {
   "cell_type": "code",
   "execution_count": 4,
   "outputs": [],
   "source": [
    "data = pd.read_excel(\"daily_weather_2020.xlsx\")"
   ],
   "metadata": {
    "collapsed": false,
    "pycharm": {
     "name": "#%%\n"
    }
   }
  },
  {
   "cell_type": "code",
   "execution_count": 7,
   "outputs": [
    {
     "data": {
      "text/plain": "           Colonne1   sunriseTime    sunsetTime     moonPhase  \\\ncount  30688.000000  3.066300e+04  3.066300e+04  30688.000000   \nmean   15343.500000  1.582624e+09  1.582666e+09      0.510009   \nstd     8859.006867  2.790765e+06  2.793909e+06      0.287635   \nmin        0.000000  1.577782e+09  1.577821e+09      0.000000   \n25%     7671.750000  1.580208e+09  1.580249e+09      0.260000   \n50%    15343.500000  1.582626e+09  1.582669e+09      0.510000   \n75%    23015.250000  1.585043e+09  1.585087e+09      0.770000   \nmax    30687.000000  1.587452e+09  1.587504e+09      1.000000   \n\n       precipIntensity  precipIntensityMax  precipIntensityMaxTime  \\\ncount     30688.000000        30688.000000            3.058400e+04   \nmean          0.004782            0.020025            1.582650e+09   \nstd           0.010669            0.046630            2.789079e+06   \nmin           0.000000            0.000000            1.577761e+09   \n25%           0.000100            0.000400            1.580245e+09   \n50%           0.000800            0.003000            1.582664e+09   \n75%           0.004400            0.019300            1.585074e+09   \nmax           0.280700            1.281300            1.587510e+09   \n\n       precipProbability  temperatureHigh  temperatureHighTime  ...  \\\ncount       30688.000000     30688.000000         3.068800e+04  ...   \nmean            0.300480        63.815749         1.582648e+09  ...   \nstd             0.305004        22.637515         2.793862e+06  ...   \nmin             0.000000       -64.300000         1.577792e+09  ...   \n25%             0.060000        47.400000         1.580230e+09  ...   \n50%             0.160000        65.520000         1.582646e+09  ...   \n75%             0.500000        82.750000         1.585067e+09  ...   \nmax             1.000000       111.610000         1.587492e+09  ...   \n\n       temperatureMinTime  temperatureMax  temperatureMaxTime  \\\ncount        3.068800e+04    30688.000000        3.068800e+04   \nmean         1.582624e+09       63.990845        1.582646e+09   \nstd          2.791830e+06       22.439661        2.793887e+06   \nmin          1.577768e+09      -58.820000        1.577792e+09   \n25%          1.580201e+09       47.680000        1.580229e+09   \n50%          1.582625e+09       65.645000        1.582644e+09   \n75%          1.585036e+09       82.750000        1.585067e+09   \nmax          1.587510e+09      111.610000        1.587490e+09   \n\n       apparentTemperatureMin  apparentTemperatureMinTime  \\\ncount            30688.000000                3.068800e+04   \nmean                44.426054                1.582624e+09   \nstd                 26.350459                2.791901e+06   \nmin               -101.870000                1.577768e+09   \n25%                 26.710000                1.580202e+09   \n50%                 44.620000                1.582619e+09   \n75%                 67.472500                1.585036e+09   \nmax                 99.810000                1.587510e+09   \n\n       apparentTemperatureMax  apparentTemperatureMaxTime           Lat  \\\ncount            30688.000000                3.068800e+04  30688.000000   \nmean                63.280123                1.582646e+09     25.893189   \nstd                 26.607293                2.793809e+06     23.110871   \nmin                -86.780000                1.577768e+09    -41.454500   \n25%                 43.710000                1.580228e+09     12.984300   \n50%                 65.200000                1.582639e+09     32.529900   \n75%                 85.450000                1.585067e+09     42.165700   \nmax                116.350000                1.587490e+09     71.706900   \n\n               Long  precipAccumulation  \ncount  30688.000000         5498.000000  \nmean       4.113167            0.708660  \nstd       79.502900            1.660202  \nmin     -157.498300            0.000000  \n25%      -71.530100            0.040000  \n50%        9.250900            0.160000  \n75%       57.500000            0.610000  \nmax      174.886000           33.810000  \n\n[8 rows x 39 columns]",
      "text/html": "<div>\n<style scoped>\n    .dataframe tbody tr th:only-of-type {\n        vertical-align: middle;\n    }\n\n    .dataframe tbody tr th {\n        vertical-align: top;\n    }\n\n    .dataframe thead th {\n        text-align: right;\n    }\n</style>\n<table border=\"1\" class=\"dataframe\">\n  <thead>\n    <tr style=\"text-align: right;\">\n      <th></th>\n      <th>Colonne1</th>\n      <th>sunriseTime</th>\n      <th>sunsetTime</th>\n      <th>moonPhase</th>\n      <th>precipIntensity</th>\n      <th>precipIntensityMax</th>\n      <th>precipIntensityMaxTime</th>\n      <th>precipProbability</th>\n      <th>temperatureHigh</th>\n      <th>temperatureHighTime</th>\n      <th>...</th>\n      <th>temperatureMinTime</th>\n      <th>temperatureMax</th>\n      <th>temperatureMaxTime</th>\n      <th>apparentTemperatureMin</th>\n      <th>apparentTemperatureMinTime</th>\n      <th>apparentTemperatureMax</th>\n      <th>apparentTemperatureMaxTime</th>\n      <th>Lat</th>\n      <th>Long</th>\n      <th>precipAccumulation</th>\n    </tr>\n  </thead>\n  <tbody>\n    <tr>\n      <th>count</th>\n      <td>30688.000000</td>\n      <td>3.066300e+04</td>\n      <td>3.066300e+04</td>\n      <td>30688.000000</td>\n      <td>30688.000000</td>\n      <td>30688.000000</td>\n      <td>3.058400e+04</td>\n      <td>30688.000000</td>\n      <td>30688.000000</td>\n      <td>3.068800e+04</td>\n      <td>...</td>\n      <td>3.068800e+04</td>\n      <td>30688.000000</td>\n      <td>3.068800e+04</td>\n      <td>30688.000000</td>\n      <td>3.068800e+04</td>\n      <td>30688.000000</td>\n      <td>3.068800e+04</td>\n      <td>30688.000000</td>\n      <td>30688.000000</td>\n      <td>5498.000000</td>\n    </tr>\n    <tr>\n      <th>mean</th>\n      <td>15343.500000</td>\n      <td>1.582624e+09</td>\n      <td>1.582666e+09</td>\n      <td>0.510009</td>\n      <td>0.004782</td>\n      <td>0.020025</td>\n      <td>1.582650e+09</td>\n      <td>0.300480</td>\n      <td>63.815749</td>\n      <td>1.582648e+09</td>\n      <td>...</td>\n      <td>1.582624e+09</td>\n      <td>63.990845</td>\n      <td>1.582646e+09</td>\n      <td>44.426054</td>\n      <td>1.582624e+09</td>\n      <td>63.280123</td>\n      <td>1.582646e+09</td>\n      <td>25.893189</td>\n      <td>4.113167</td>\n      <td>0.708660</td>\n    </tr>\n    <tr>\n      <th>std</th>\n      <td>8859.006867</td>\n      <td>2.790765e+06</td>\n      <td>2.793909e+06</td>\n      <td>0.287635</td>\n      <td>0.010669</td>\n      <td>0.046630</td>\n      <td>2.789079e+06</td>\n      <td>0.305004</td>\n      <td>22.637515</td>\n      <td>2.793862e+06</td>\n      <td>...</td>\n      <td>2.791830e+06</td>\n      <td>22.439661</td>\n      <td>2.793887e+06</td>\n      <td>26.350459</td>\n      <td>2.791901e+06</td>\n      <td>26.607293</td>\n      <td>2.793809e+06</td>\n      <td>23.110871</td>\n      <td>79.502900</td>\n      <td>1.660202</td>\n    </tr>\n    <tr>\n      <th>min</th>\n      <td>0.000000</td>\n      <td>1.577782e+09</td>\n      <td>1.577821e+09</td>\n      <td>0.000000</td>\n      <td>0.000000</td>\n      <td>0.000000</td>\n      <td>1.577761e+09</td>\n      <td>0.000000</td>\n      <td>-64.300000</td>\n      <td>1.577792e+09</td>\n      <td>...</td>\n      <td>1.577768e+09</td>\n      <td>-58.820000</td>\n      <td>1.577792e+09</td>\n      <td>-101.870000</td>\n      <td>1.577768e+09</td>\n      <td>-86.780000</td>\n      <td>1.577768e+09</td>\n      <td>-41.454500</td>\n      <td>-157.498300</td>\n      <td>0.000000</td>\n    </tr>\n    <tr>\n      <th>25%</th>\n      <td>7671.750000</td>\n      <td>1.580208e+09</td>\n      <td>1.580249e+09</td>\n      <td>0.260000</td>\n      <td>0.000100</td>\n      <td>0.000400</td>\n      <td>1.580245e+09</td>\n      <td>0.060000</td>\n      <td>47.400000</td>\n      <td>1.580230e+09</td>\n      <td>...</td>\n      <td>1.580201e+09</td>\n      <td>47.680000</td>\n      <td>1.580229e+09</td>\n      <td>26.710000</td>\n      <td>1.580202e+09</td>\n      <td>43.710000</td>\n      <td>1.580228e+09</td>\n      <td>12.984300</td>\n      <td>-71.530100</td>\n      <td>0.040000</td>\n    </tr>\n    <tr>\n      <th>50%</th>\n      <td>15343.500000</td>\n      <td>1.582626e+09</td>\n      <td>1.582669e+09</td>\n      <td>0.510000</td>\n      <td>0.000800</td>\n      <td>0.003000</td>\n      <td>1.582664e+09</td>\n      <td>0.160000</td>\n      <td>65.520000</td>\n      <td>1.582646e+09</td>\n      <td>...</td>\n      <td>1.582625e+09</td>\n      <td>65.645000</td>\n      <td>1.582644e+09</td>\n      <td>44.620000</td>\n      <td>1.582619e+09</td>\n      <td>65.200000</td>\n      <td>1.582639e+09</td>\n      <td>32.529900</td>\n      <td>9.250900</td>\n      <td>0.160000</td>\n    </tr>\n    <tr>\n      <th>75%</th>\n      <td>23015.250000</td>\n      <td>1.585043e+09</td>\n      <td>1.585087e+09</td>\n      <td>0.770000</td>\n      <td>0.004400</td>\n      <td>0.019300</td>\n      <td>1.585074e+09</td>\n      <td>0.500000</td>\n      <td>82.750000</td>\n      <td>1.585067e+09</td>\n      <td>...</td>\n      <td>1.585036e+09</td>\n      <td>82.750000</td>\n      <td>1.585067e+09</td>\n      <td>67.472500</td>\n      <td>1.585036e+09</td>\n      <td>85.450000</td>\n      <td>1.585067e+09</td>\n      <td>42.165700</td>\n      <td>57.500000</td>\n      <td>0.610000</td>\n    </tr>\n    <tr>\n      <th>max</th>\n      <td>30687.000000</td>\n      <td>1.587452e+09</td>\n      <td>1.587504e+09</td>\n      <td>1.000000</td>\n      <td>0.280700</td>\n      <td>1.281300</td>\n      <td>1.587510e+09</td>\n      <td>1.000000</td>\n      <td>111.610000</td>\n      <td>1.587492e+09</td>\n      <td>...</td>\n      <td>1.587510e+09</td>\n      <td>111.610000</td>\n      <td>1.587490e+09</td>\n      <td>99.810000</td>\n      <td>1.587510e+09</td>\n      <td>116.350000</td>\n      <td>1.587490e+09</td>\n      <td>71.706900</td>\n      <td>174.886000</td>\n      <td>33.810000</td>\n    </tr>\n  </tbody>\n</table>\n<p>8 rows × 39 columns</p>\n</div>"
     },
     "execution_count": 7,
     "metadata": {},
     "output_type": "execute_result"
    }
   ],
   "source": [
    "data.describe()"
   ],
   "metadata": {
    "collapsed": false,
    "pycharm": {
     "name": "#%%\n"
    }
   }
  },
  {
   "cell_type": "code",
   "execution_count": 8,
   "outputs": [
    {
     "name": "stdout",
     "output_type": "stream",
     "text": [
      "<class 'pandas.core.frame.DataFrame'>\n",
      "RangeIndex: 30688 entries, 0 to 30687\n",
      "Data columns (total 45 columns):\n",
      " #   Column                       Non-Null Count  Dtype         \n",
      "---  ------                       --------------  -----         \n",
      " 0   Colonne1                     30688 non-null  int64         \n",
      " 1   Country/Region               30688 non-null  object        \n",
      " 2   Province/State               13776 non-null  object        \n",
      " 3   time                         30688 non-null  datetime64[ns]\n",
      " 4   summary                      30685 non-null  object        \n",
      " 5   icon                         30688 non-null  object        \n",
      " 6   sunriseTime                  30663 non-null  float64       \n",
      " 7   sunsetTime                   30663 non-null  float64       \n",
      " 8   moonPhase                    30688 non-null  float64       \n",
      " 9   precipIntensity              30688 non-null  float64       \n",
      " 10  precipIntensityMax           30688 non-null  float64       \n",
      " 11  precipIntensityMaxTime       30584 non-null  float64       \n",
      " 12  precipProbability            30688 non-null  float64       \n",
      " 13  precipType                   28444 non-null  object        \n",
      " 14  temperatureHigh              30688 non-null  float64       \n",
      " 15  temperatureHighTime          30688 non-null  int64         \n",
      " 16  temperatureLow               30688 non-null  float64       \n",
      " 17  temperatureLowTime           30688 non-null  int64         \n",
      " 18  apparentTemperatureHigh      30688 non-null  float64       \n",
      " 19  apparentTemperatureHighTime  30688 non-null  int64         \n",
      " 20  apparentTemperatureLow       30688 non-null  float64       \n",
      " 21  apparentTemperatureLowTime   30688 non-null  int64         \n",
      " 22  dewPoint                     30688 non-null  float64       \n",
      " 23  humidity                     30688 non-null  float64       \n",
      " 24  pressure                     30688 non-null  float64       \n",
      " 25  windSpeed                    30688 non-null  float64       \n",
      " 26  windGust                     30688 non-null  float64       \n",
      " 27  windGustTime                 30688 non-null  int64         \n",
      " 28  windBearing                  30688 non-null  int64         \n",
      " 29  cloudCover                   30688 non-null  float64       \n",
      " 30  uvIndex                      30688 non-null  int64         \n",
      " 31  uvIndexTime                  30688 non-null  int64         \n",
      " 32  visibility                   30688 non-null  float64       \n",
      " 33  ozone                        30688 non-null  float64       \n",
      " 34  temperatureMin               30688 non-null  float64       \n",
      " 35  temperatureMinTime           30688 non-null  int64         \n",
      " 36  temperatureMax               30688 non-null  float64       \n",
      " 37  temperatureMaxTime           30688 non-null  int64         \n",
      " 38  apparentTemperatureMin       30688 non-null  float64       \n",
      " 39  apparentTemperatureMinTime   30688 non-null  int64         \n",
      " 40  apparentTemperatureMax       30688 non-null  float64       \n",
      " 41  apparentTemperatureMaxTime   30688 non-null  int64         \n",
      " 42  Lat                          30688 non-null  float64       \n",
      " 43  Long                         30688 non-null  float64       \n",
      " 44  precipAccumulation           5498 non-null   float64       \n",
      "dtypes: datetime64[ns](1), float64(26), int64(13), object(5)\n",
      "memory usage: 10.5+ MB\n"
     ]
    }
   ],
   "source": [
    "data.info()"
   ],
   "metadata": {
    "collapsed": false,
    "pycharm": {
     "name": "#%%\n"
    }
   }
  },
  {
   "cell_type": "code",
   "execution_count": 32,
   "outputs": [],
   "source": [
    "df = data[[\"Country/Region\",\"time\",'icon',\"sunriseTime\",\"sunsetTime\",\"precipIntensity\",\"precipProbability\",\"windSpeed\",\"cloudCover\",\"uvIndex\",\"temperatureMin\",\"temperatureMax\",\"Lat\",\"Long\"]]"
   ],
   "metadata": {
    "collapsed": false,
    "pycharm": {
     "name": "#%%\n"
    }
   }
  },
  {
   "cell_type": "code",
   "execution_count": 33,
   "outputs": [
    {
     "name": "stderr",
     "output_type": "stream",
     "text": [
      "/var/folders/vy/5jw_ktv53n9gvfx6rgt6k5br0000gp/T/ipykernel_98534/226420404.py:1: SettingWithCopyWarning: \n",
      "A value is trying to be set on a copy of a slice from a DataFrame.\n",
      "Try using .loc[row_indexer,col_indexer] = value instead\n",
      "\n",
      "See the caveats in the documentation: https://pandas.pydata.org/pandas-docs/stable/user_guide/indexing.html#returning-a-view-versus-a-copy\n",
      "  df[\"totalDayTime\"] = df[\"sunsetTime\"] - df[\"sunriseTime\"]\n"
     ]
    }
   ],
   "source": [
    "df[\"totalDayTime\"] = df[\"sunsetTime\"] - df[\"sunriseTime\"]"
   ],
   "metadata": {
    "collapsed": false,
    "pycharm": {
     "name": "#%%\n"
    }
   }
  },
  {
   "cell_type": "code",
   "execution_count": 34,
   "outputs": [
    {
     "name": "stderr",
     "output_type": "stream",
     "text": [
      "/var/folders/vy/5jw_ktv53n9gvfx6rgt6k5br0000gp/T/ipykernel_98534/2123903581.py:1: SettingWithCopyWarning: \n",
      "A value is trying to be set on a copy of a slice from a DataFrame\n",
      "\n",
      "See the caveats in the documentation: https://pandas.pydata.org/pandas-docs/stable/user_guide/indexing.html#returning-a-view-versus-a-copy\n",
      "  df.drop([\"sunsetTime\",\"sunriseTime\"],axis=1,inplace=True)\n"
     ]
    }
   ],
   "source": [
    "df.drop([\"sunsetTime\",\"sunriseTime\"],axis=1,inplace=True)"
   ],
   "metadata": {
    "collapsed": false,
    "pycharm": {
     "name": "#%%\n"
    }
   }
  },
  {
   "cell_type": "code",
   "execution_count": 46,
   "outputs": [
    {
     "name": "stderr",
     "output_type": "stream",
     "text": [
      "/var/folders/vy/5jw_ktv53n9gvfx6rgt6k5br0000gp/T/ipykernel_98534/378717516.py:1: SettingWithCopyWarning: \n",
      "A value is trying to be set on a copy of a slice from a DataFrame.\n",
      "Try using .loc[row_indexer,col_indexer] = value instead\n",
      "\n",
      "See the caveats in the documentation: https://pandas.pydata.org/pandas-docs/stable/user_guide/indexing.html#returning-a-view-versus-a-copy\n",
      "  df[\"meanTemperature\"]=(df[\"temperatureMax\"] + df[\"temperatureMin\"])/2\n"
     ]
    }
   ],
   "source": [
    "df[\"meanTemperature\"]=(df[\"temperatureMax\"] + df[\"temperatureMin\"])/2"
   ],
   "metadata": {
    "collapsed": false,
    "pycharm": {
     "name": "#%%\n"
    }
   }
  },
  {
   "cell_type": "code",
   "execution_count": 40,
   "outputs": [
    {
     "ename": "KeyError",
     "evalue": "\"['icon'] not found in axis\"",
     "output_type": "error",
     "traceback": [
      "\u001B[0;31m---------------------------------------------------------------------------\u001B[0m",
      "\u001B[0;31mKeyError\u001B[0m                                  Traceback (most recent call last)",
      "Input \u001B[0;32mIn [40]\u001B[0m, in \u001B[0;36m<cell line: 1>\u001B[0;34m()\u001B[0m\n\u001B[0;32m----> 1\u001B[0m \u001B[43mdf\u001B[49m\u001B[38;5;241;43m.\u001B[39;49m\u001B[43mdrop\u001B[49m\u001B[43m(\u001B[49m\u001B[43m[\u001B[49m\u001B[38;5;124;43m\"\u001B[39;49m\u001B[38;5;124;43micon\u001B[39;49m\u001B[38;5;124;43m\"\u001B[39;49m\u001B[43m]\u001B[49m\u001B[43m,\u001B[49m\u001B[43maxis\u001B[49m\u001B[38;5;241;43m=\u001B[39;49m\u001B[38;5;241;43m1\u001B[39;49m\u001B[43m,\u001B[49m\u001B[43minplace\u001B[49m\u001B[38;5;241;43m=\u001B[39;49m\u001B[38;5;28;43;01mTrue\u001B[39;49;00m\u001B[43m)\u001B[49m\n",
      "File \u001B[0;32m~/.pyenv/versions/3.8.10/envs/local_notebook/lib/python3.8/site-packages/pandas/util/_decorators.py:311\u001B[0m, in \u001B[0;36mdeprecate_nonkeyword_arguments.<locals>.decorate.<locals>.wrapper\u001B[0;34m(*args, **kwargs)\u001B[0m\n\u001B[1;32m    305\u001B[0m \u001B[38;5;28;01mif\u001B[39;00m \u001B[38;5;28mlen\u001B[39m(args) \u001B[38;5;241m>\u001B[39m num_allow_args:\n\u001B[1;32m    306\u001B[0m     warnings\u001B[38;5;241m.\u001B[39mwarn(\n\u001B[1;32m    307\u001B[0m         msg\u001B[38;5;241m.\u001B[39mformat(arguments\u001B[38;5;241m=\u001B[39marguments),\n\u001B[1;32m    308\u001B[0m         \u001B[38;5;167;01mFutureWarning\u001B[39;00m,\n\u001B[1;32m    309\u001B[0m         stacklevel\u001B[38;5;241m=\u001B[39mstacklevel,\n\u001B[1;32m    310\u001B[0m     )\n\u001B[0;32m--> 311\u001B[0m \u001B[38;5;28;01mreturn\u001B[39;00m \u001B[43mfunc\u001B[49m\u001B[43m(\u001B[49m\u001B[38;5;241;43m*\u001B[39;49m\u001B[43margs\u001B[49m\u001B[43m,\u001B[49m\u001B[43m \u001B[49m\u001B[38;5;241;43m*\u001B[39;49m\u001B[38;5;241;43m*\u001B[39;49m\u001B[43mkwargs\u001B[49m\u001B[43m)\u001B[49m\n",
      "File \u001B[0;32m~/.pyenv/versions/3.8.10/envs/local_notebook/lib/python3.8/site-packages/pandas/core/frame.py:4954\u001B[0m, in \u001B[0;36mDataFrame.drop\u001B[0;34m(self, labels, axis, index, columns, level, inplace, errors)\u001B[0m\n\u001B[1;32m   4806\u001B[0m \u001B[38;5;129m@deprecate_nonkeyword_arguments\u001B[39m(version\u001B[38;5;241m=\u001B[39m\u001B[38;5;28;01mNone\u001B[39;00m, allowed_args\u001B[38;5;241m=\u001B[39m[\u001B[38;5;124m\"\u001B[39m\u001B[38;5;124mself\u001B[39m\u001B[38;5;124m\"\u001B[39m, \u001B[38;5;124m\"\u001B[39m\u001B[38;5;124mlabels\u001B[39m\u001B[38;5;124m\"\u001B[39m])\n\u001B[1;32m   4807\u001B[0m \u001B[38;5;28;01mdef\u001B[39;00m \u001B[38;5;21mdrop\u001B[39m(\n\u001B[1;32m   4808\u001B[0m     \u001B[38;5;28mself\u001B[39m,\n\u001B[0;32m   (...)\u001B[0m\n\u001B[1;32m   4815\u001B[0m     errors: \u001B[38;5;28mstr\u001B[39m \u001B[38;5;241m=\u001B[39m \u001B[38;5;124m\"\u001B[39m\u001B[38;5;124mraise\u001B[39m\u001B[38;5;124m\"\u001B[39m,\n\u001B[1;32m   4816\u001B[0m ):\n\u001B[1;32m   4817\u001B[0m     \u001B[38;5;124;03m\"\"\"\u001B[39;00m\n\u001B[1;32m   4818\u001B[0m \u001B[38;5;124;03m    Drop specified labels from rows or columns.\u001B[39;00m\n\u001B[1;32m   4819\u001B[0m \n\u001B[0;32m   (...)\u001B[0m\n\u001B[1;32m   4952\u001B[0m \u001B[38;5;124;03m            weight  1.0     0.8\u001B[39;00m\n\u001B[1;32m   4953\u001B[0m \u001B[38;5;124;03m    \"\"\"\u001B[39;00m\n\u001B[0;32m-> 4954\u001B[0m     \u001B[38;5;28;01mreturn\u001B[39;00m \u001B[38;5;28;43msuper\u001B[39;49m\u001B[43m(\u001B[49m\u001B[43m)\u001B[49m\u001B[38;5;241;43m.\u001B[39;49m\u001B[43mdrop\u001B[49m\u001B[43m(\u001B[49m\n\u001B[1;32m   4955\u001B[0m \u001B[43m        \u001B[49m\u001B[43mlabels\u001B[49m\u001B[38;5;241;43m=\u001B[39;49m\u001B[43mlabels\u001B[49m\u001B[43m,\u001B[49m\n\u001B[1;32m   4956\u001B[0m \u001B[43m        \u001B[49m\u001B[43maxis\u001B[49m\u001B[38;5;241;43m=\u001B[39;49m\u001B[43maxis\u001B[49m\u001B[43m,\u001B[49m\n\u001B[1;32m   4957\u001B[0m \u001B[43m        \u001B[49m\u001B[43mindex\u001B[49m\u001B[38;5;241;43m=\u001B[39;49m\u001B[43mindex\u001B[49m\u001B[43m,\u001B[49m\n\u001B[1;32m   4958\u001B[0m \u001B[43m        \u001B[49m\u001B[43mcolumns\u001B[49m\u001B[38;5;241;43m=\u001B[39;49m\u001B[43mcolumns\u001B[49m\u001B[43m,\u001B[49m\n\u001B[1;32m   4959\u001B[0m \u001B[43m        \u001B[49m\u001B[43mlevel\u001B[49m\u001B[38;5;241;43m=\u001B[39;49m\u001B[43mlevel\u001B[49m\u001B[43m,\u001B[49m\n\u001B[1;32m   4960\u001B[0m \u001B[43m        \u001B[49m\u001B[43minplace\u001B[49m\u001B[38;5;241;43m=\u001B[39;49m\u001B[43minplace\u001B[49m\u001B[43m,\u001B[49m\n\u001B[1;32m   4961\u001B[0m \u001B[43m        \u001B[49m\u001B[43merrors\u001B[49m\u001B[38;5;241;43m=\u001B[39;49m\u001B[43merrors\u001B[49m\u001B[43m,\u001B[49m\n\u001B[1;32m   4962\u001B[0m \u001B[43m    \u001B[49m\u001B[43m)\u001B[49m\n",
      "File \u001B[0;32m~/.pyenv/versions/3.8.10/envs/local_notebook/lib/python3.8/site-packages/pandas/core/generic.py:4267\u001B[0m, in \u001B[0;36mNDFrame.drop\u001B[0;34m(self, labels, axis, index, columns, level, inplace, errors)\u001B[0m\n\u001B[1;32m   4265\u001B[0m \u001B[38;5;28;01mfor\u001B[39;00m axis, labels \u001B[38;5;129;01min\u001B[39;00m axes\u001B[38;5;241m.\u001B[39mitems():\n\u001B[1;32m   4266\u001B[0m     \u001B[38;5;28;01mif\u001B[39;00m labels \u001B[38;5;129;01mis\u001B[39;00m \u001B[38;5;129;01mnot\u001B[39;00m \u001B[38;5;28;01mNone\u001B[39;00m:\n\u001B[0;32m-> 4267\u001B[0m         obj \u001B[38;5;241m=\u001B[39m \u001B[43mobj\u001B[49m\u001B[38;5;241;43m.\u001B[39;49m\u001B[43m_drop_axis\u001B[49m\u001B[43m(\u001B[49m\u001B[43mlabels\u001B[49m\u001B[43m,\u001B[49m\u001B[43m \u001B[49m\u001B[43maxis\u001B[49m\u001B[43m,\u001B[49m\u001B[43m \u001B[49m\u001B[43mlevel\u001B[49m\u001B[38;5;241;43m=\u001B[39;49m\u001B[43mlevel\u001B[49m\u001B[43m,\u001B[49m\u001B[43m \u001B[49m\u001B[43merrors\u001B[49m\u001B[38;5;241;43m=\u001B[39;49m\u001B[43merrors\u001B[49m\u001B[43m)\u001B[49m\n\u001B[1;32m   4269\u001B[0m \u001B[38;5;28;01mif\u001B[39;00m inplace:\n\u001B[1;32m   4270\u001B[0m     \u001B[38;5;28mself\u001B[39m\u001B[38;5;241m.\u001B[39m_update_inplace(obj)\n",
      "File \u001B[0;32m~/.pyenv/versions/3.8.10/envs/local_notebook/lib/python3.8/site-packages/pandas/core/generic.py:4311\u001B[0m, in \u001B[0;36mNDFrame._drop_axis\u001B[0;34m(self, labels, axis, level, errors, consolidate, only_slice)\u001B[0m\n\u001B[1;32m   4309\u001B[0m         new_axis \u001B[38;5;241m=\u001B[39m axis\u001B[38;5;241m.\u001B[39mdrop(labels, level\u001B[38;5;241m=\u001B[39mlevel, errors\u001B[38;5;241m=\u001B[39merrors)\n\u001B[1;32m   4310\u001B[0m     \u001B[38;5;28;01melse\u001B[39;00m:\n\u001B[0;32m-> 4311\u001B[0m         new_axis \u001B[38;5;241m=\u001B[39m \u001B[43maxis\u001B[49m\u001B[38;5;241;43m.\u001B[39;49m\u001B[43mdrop\u001B[49m\u001B[43m(\u001B[49m\u001B[43mlabels\u001B[49m\u001B[43m,\u001B[49m\u001B[43m \u001B[49m\u001B[43merrors\u001B[49m\u001B[38;5;241;43m=\u001B[39;49m\u001B[43merrors\u001B[49m\u001B[43m)\u001B[49m\n\u001B[1;32m   4312\u001B[0m     indexer \u001B[38;5;241m=\u001B[39m axis\u001B[38;5;241m.\u001B[39mget_indexer(new_axis)\n\u001B[1;32m   4314\u001B[0m \u001B[38;5;66;03m# Case for non-unique axis\u001B[39;00m\n\u001B[1;32m   4315\u001B[0m \u001B[38;5;28;01melse\u001B[39;00m:\n",
      "File \u001B[0;32m~/.pyenv/versions/3.8.10/envs/local_notebook/lib/python3.8/site-packages/pandas/core/indexes/base.py:6644\u001B[0m, in \u001B[0;36mIndex.drop\u001B[0;34m(self, labels, errors)\u001B[0m\n\u001B[1;32m   6642\u001B[0m \u001B[38;5;28;01mif\u001B[39;00m mask\u001B[38;5;241m.\u001B[39many():\n\u001B[1;32m   6643\u001B[0m     \u001B[38;5;28;01mif\u001B[39;00m errors \u001B[38;5;241m!=\u001B[39m \u001B[38;5;124m\"\u001B[39m\u001B[38;5;124mignore\u001B[39m\u001B[38;5;124m\"\u001B[39m:\n\u001B[0;32m-> 6644\u001B[0m         \u001B[38;5;28;01mraise\u001B[39;00m \u001B[38;5;167;01mKeyError\u001B[39;00m(\u001B[38;5;124mf\u001B[39m\u001B[38;5;124m\"\u001B[39m\u001B[38;5;132;01m{\u001B[39;00m\u001B[38;5;28mlist\u001B[39m(labels[mask])\u001B[38;5;132;01m}\u001B[39;00m\u001B[38;5;124m not found in axis\u001B[39m\u001B[38;5;124m\"\u001B[39m)\n\u001B[1;32m   6645\u001B[0m     indexer \u001B[38;5;241m=\u001B[39m indexer[\u001B[38;5;241m~\u001B[39mmask]\n\u001B[1;32m   6646\u001B[0m \u001B[38;5;28;01mreturn\u001B[39;00m \u001B[38;5;28mself\u001B[39m\u001B[38;5;241m.\u001B[39mdelete(indexer)\n",
      "\u001B[0;31mKeyError\u001B[0m: \"['icon'] not found in axis\""
     ]
    }
   ],
   "source": [
    "df.drop([\"icon\"],axis=1,inplace=True)"
   ],
   "metadata": {
    "collapsed": false,
    "pycharm": {
     "name": "#%%\n"
    }
   }
  },
  {
   "cell_type": "code",
   "execution_count": 41,
   "outputs": [
    {
     "data": {
      "text/plain": "                     count       mean       std  min  25%   50%    75%   max\nCountry/Region                                                              \nAfghanistan          112.0   5.116071  1.994341  2.0  4.0   5.0   6.00  11.0\nAlbania              112.0   3.267857  1.593806  1.0  2.0   3.0   4.00   8.0\nAlgeria              112.0   6.723214  2.144382  3.0  5.0   7.0   8.25  11.0\nAndorra              112.0   3.151786  1.376834  1.0  2.0   3.0   4.00   7.0\nAntigua and Barbuda  112.0   8.982143  1.770540  5.0  8.0   9.0  10.00  12.0\n...                    ...        ...       ...  ...  ...   ...    ...   ...\nUruguay              112.0   8.910714  2.649336  4.0  7.0   9.0  11.00  14.0\nUzbekistan           112.0   3.169643  1.681314  1.0  2.0   3.0   5.00   7.0\nVenezuela            112.0  10.062500  1.634544  6.0  9.0  10.0  11.00  13.0\nVietnam              112.0   8.053571  2.265445  5.0  6.0   7.5   9.25  13.0\nZambia               112.0   8.187500  2.376807  6.0  6.0   7.0  10.00  15.0\n\n[160 rows x 8 columns]",
      "text/html": "<div>\n<style scoped>\n    .dataframe tbody tr th:only-of-type {\n        vertical-align: middle;\n    }\n\n    .dataframe tbody tr th {\n        vertical-align: top;\n    }\n\n    .dataframe thead th {\n        text-align: right;\n    }\n</style>\n<table border=\"1\" class=\"dataframe\">\n  <thead>\n    <tr style=\"text-align: right;\">\n      <th></th>\n      <th>count</th>\n      <th>mean</th>\n      <th>std</th>\n      <th>min</th>\n      <th>25%</th>\n      <th>50%</th>\n      <th>75%</th>\n      <th>max</th>\n    </tr>\n    <tr>\n      <th>Country/Region</th>\n      <th></th>\n      <th></th>\n      <th></th>\n      <th></th>\n      <th></th>\n      <th></th>\n      <th></th>\n      <th></th>\n    </tr>\n  </thead>\n  <tbody>\n    <tr>\n      <th>Afghanistan</th>\n      <td>112.0</td>\n      <td>5.116071</td>\n      <td>1.994341</td>\n      <td>2.0</td>\n      <td>4.0</td>\n      <td>5.0</td>\n      <td>6.00</td>\n      <td>11.0</td>\n    </tr>\n    <tr>\n      <th>Albania</th>\n      <td>112.0</td>\n      <td>3.267857</td>\n      <td>1.593806</td>\n      <td>1.0</td>\n      <td>2.0</td>\n      <td>3.0</td>\n      <td>4.00</td>\n      <td>8.0</td>\n    </tr>\n    <tr>\n      <th>Algeria</th>\n      <td>112.0</td>\n      <td>6.723214</td>\n      <td>2.144382</td>\n      <td>3.0</td>\n      <td>5.0</td>\n      <td>7.0</td>\n      <td>8.25</td>\n      <td>11.0</td>\n    </tr>\n    <tr>\n      <th>Andorra</th>\n      <td>112.0</td>\n      <td>3.151786</td>\n      <td>1.376834</td>\n      <td>1.0</td>\n      <td>2.0</td>\n      <td>3.0</td>\n      <td>4.00</td>\n      <td>7.0</td>\n    </tr>\n    <tr>\n      <th>Antigua and Barbuda</th>\n      <td>112.0</td>\n      <td>8.982143</td>\n      <td>1.770540</td>\n      <td>5.0</td>\n      <td>8.0</td>\n      <td>9.0</td>\n      <td>10.00</td>\n      <td>12.0</td>\n    </tr>\n    <tr>\n      <th>...</th>\n      <td>...</td>\n      <td>...</td>\n      <td>...</td>\n      <td>...</td>\n      <td>...</td>\n      <td>...</td>\n      <td>...</td>\n      <td>...</td>\n    </tr>\n    <tr>\n      <th>Uruguay</th>\n      <td>112.0</td>\n      <td>8.910714</td>\n      <td>2.649336</td>\n      <td>4.0</td>\n      <td>7.0</td>\n      <td>9.0</td>\n      <td>11.00</td>\n      <td>14.0</td>\n    </tr>\n    <tr>\n      <th>Uzbekistan</th>\n      <td>112.0</td>\n      <td>3.169643</td>\n      <td>1.681314</td>\n      <td>1.0</td>\n      <td>2.0</td>\n      <td>3.0</td>\n      <td>5.00</td>\n      <td>7.0</td>\n    </tr>\n    <tr>\n      <th>Venezuela</th>\n      <td>112.0</td>\n      <td>10.062500</td>\n      <td>1.634544</td>\n      <td>6.0</td>\n      <td>9.0</td>\n      <td>10.0</td>\n      <td>11.00</td>\n      <td>13.0</td>\n    </tr>\n    <tr>\n      <th>Vietnam</th>\n      <td>112.0</td>\n      <td>8.053571</td>\n      <td>2.265445</td>\n      <td>5.0</td>\n      <td>6.0</td>\n      <td>7.5</td>\n      <td>9.25</td>\n      <td>13.0</td>\n    </tr>\n    <tr>\n      <th>Zambia</th>\n      <td>112.0</td>\n      <td>8.187500</td>\n      <td>2.376807</td>\n      <td>6.0</td>\n      <td>6.0</td>\n      <td>7.0</td>\n      <td>10.00</td>\n      <td>15.0</td>\n    </tr>\n  </tbody>\n</table>\n<p>160 rows × 8 columns</p>\n</div>"
     },
     "execution_count": 41,
     "metadata": {},
     "output_type": "execute_result"
    }
   ],
   "source": [
    "df.groupby([\"Country/Region\"]).describe()"
   ],
   "metadata": {
    "collapsed": false,
    "pycharm": {
     "name": "#%%\n"
    }
   }
  },
  {
   "cell_type": "code",
   "execution_count": 43,
   "outputs": [
    {
     "name": "stderr",
     "output_type": "stream",
     "text": [
      "/var/folders/vy/5jw_ktv53n9gvfx6rgt6k5br0000gp/T/ipykernel_98534/1715805097.py:5: SettingWithCopyWarning: \n",
      "A value is trying to be set on a copy of a slice from a DataFrame.\n",
      "Try using .loc[row_indexer,col_indexer] = value instead\n",
      "\n",
      "See the caveats in the documentation: https://pandas.pydata.org/pandas-docs/stable/user_guide/indexing.html#returning-a-view-versus-a-copy\n",
      "  df.at[index,\"windPower\"] = 0\n",
      "/var/folders/vy/5jw_ktv53n9gvfx6rgt6k5br0000gp/T/ipykernel_98534/1715805097.py:6: SettingWithCopyWarning: \n",
      "A value is trying to be set on a copy of a slice from a DataFrame.\n",
      "Try using .loc[row_indexer,col_indexer] = value instead\n",
      "\n",
      "See the caveats in the documentation: https://pandas.pydata.org/pandas-docs/stable/user_guide/indexing.html#returning-a-view-versus-a-copy\n",
      "  df.at[index,\"uvPower\"] = row[\"uvIndex\"] / 16\n"
     ]
    }
   ],
   "source": [
    "for index, row in df.iterrows():\n",
    "    if row[\"windSpeed\"] > 7.45:\n",
    "        df.at[index,\"windPower\"] = 2.7\n",
    "    else :\n",
    "        df.at[index,\"windPower\"] = 0\n",
    "    df.at[index,\"uvPower\"] = row[\"uvIndex\"] / 16\n"
   ],
   "metadata": {
    "collapsed": false,
    "pycharm": {
     "name": "#%%\n"
    }
   }
  },
  {
   "cell_type": "code",
   "execution_count": 50,
   "outputs": [
    {
     "name": "stderr",
     "output_type": "stream",
     "text": [
      "/var/folders/vy/5jw_ktv53n9gvfx6rgt6k5br0000gp/T/ipykernel_98534/1272786147.py:1: FutureWarning: Indexing with multiple keys (implicitly converted to a tuple of keys) will be deprecated, use a list instead.\n",
      "  df2 =df.groupby([\"Country/Region\"])[\"windPower\",\"uvPower\",\"meanTemperature\"].mean()\n"
     ]
    }
   ],
   "source": [
    "df2 =df.groupby([\"Country/Region\"])[\"windPower\",\"uvPower\",\"meanTemperature\"].mean()"
   ],
   "metadata": {
    "collapsed": false,
    "pycharm": {
     "name": "#%%\n"
    }
   }
  },
  {
   "cell_type": "code",
   "execution_count": 51,
   "outputs": [
    {
     "data": {
      "text/plain": "                     windPower   uvPower  meanTemperature\nCountry/Region                                           \nAfghanistan           0.000000  0.319754        44.548393\nAlbania               0.072321  0.204241        49.552813\nAlgeria               2.362500  0.420201        66.302232\nAndorra               0.048214  0.196987        46.486295\nAntigua and Barbuda   2.507143  0.561384        78.303973\n...                        ...       ...              ...\nUruguay               1.856250  0.556920        73.524375\nUzbekistan            1.374107  0.198103        45.542277\nVenezuela             0.192857  0.628906        79.097411\nVietnam               0.000000  0.503348        66.038750\nZambia                0.964286  0.511719        70.773348\n\n[160 rows x 3 columns]",
      "text/html": "<div>\n<style scoped>\n    .dataframe tbody tr th:only-of-type {\n        vertical-align: middle;\n    }\n\n    .dataframe tbody tr th {\n        vertical-align: top;\n    }\n\n    .dataframe thead th {\n        text-align: right;\n    }\n</style>\n<table border=\"1\" class=\"dataframe\">\n  <thead>\n    <tr style=\"text-align: right;\">\n      <th></th>\n      <th>windPower</th>\n      <th>uvPower</th>\n      <th>meanTemperature</th>\n    </tr>\n    <tr>\n      <th>Country/Region</th>\n      <th></th>\n      <th></th>\n      <th></th>\n    </tr>\n  </thead>\n  <tbody>\n    <tr>\n      <th>Afghanistan</th>\n      <td>0.000000</td>\n      <td>0.319754</td>\n      <td>44.548393</td>\n    </tr>\n    <tr>\n      <th>Albania</th>\n      <td>0.072321</td>\n      <td>0.204241</td>\n      <td>49.552813</td>\n    </tr>\n    <tr>\n      <th>Algeria</th>\n      <td>2.362500</td>\n      <td>0.420201</td>\n      <td>66.302232</td>\n    </tr>\n    <tr>\n      <th>Andorra</th>\n      <td>0.048214</td>\n      <td>0.196987</td>\n      <td>46.486295</td>\n    </tr>\n    <tr>\n      <th>Antigua and Barbuda</th>\n      <td>2.507143</td>\n      <td>0.561384</td>\n      <td>78.303973</td>\n    </tr>\n    <tr>\n      <th>...</th>\n      <td>...</td>\n      <td>...</td>\n      <td>...</td>\n    </tr>\n    <tr>\n      <th>Uruguay</th>\n      <td>1.856250</td>\n      <td>0.556920</td>\n      <td>73.524375</td>\n    </tr>\n    <tr>\n      <th>Uzbekistan</th>\n      <td>1.374107</td>\n      <td>0.198103</td>\n      <td>45.542277</td>\n    </tr>\n    <tr>\n      <th>Venezuela</th>\n      <td>0.192857</td>\n      <td>0.628906</td>\n      <td>79.097411</td>\n    </tr>\n    <tr>\n      <th>Vietnam</th>\n      <td>0.000000</td>\n      <td>0.503348</td>\n      <td>66.038750</td>\n    </tr>\n    <tr>\n      <th>Zambia</th>\n      <td>0.964286</td>\n      <td>0.511719</td>\n      <td>70.773348</td>\n    </tr>\n  </tbody>\n</table>\n<p>160 rows × 3 columns</p>\n</div>"
     },
     "execution_count": 51,
     "metadata": {},
     "output_type": "execute_result"
    }
   ],
   "source": [
    "df2"
   ],
   "metadata": {
    "collapsed": false,
    "pycharm": {
     "name": "#%%\n"
    }
   }
  },
  {
   "cell_type": "code",
   "execution_count": 54,
   "outputs": [],
   "source": [
    "df2[\"meanTemperature\"] = df2[\"meanTemperature\"] + 31"
   ],
   "metadata": {
    "collapsed": false,
    "pycharm": {
     "name": "#%%\n"
    }
   }
  },
  {
   "cell_type": "code",
   "execution_count": 57,
   "outputs": [],
   "source": [
    "df2[\"temperature_induced_consumption\"] = (df2[\"meanTemperature\"] / 120) * 2 -1"
   ],
   "metadata": {
    "collapsed": false,
    "pycharm": {
     "name": "#%%\n"
    }
   }
  },
  {
   "cell_type": "code",
   "source": [
    "df2[\"final_score\"]= df2[\"windPower\"] + df2[\"uvPower\"] + df2[\"meanTemperature\"]"
   ],
   "metadata": {
    "collapsed": false,
    "pycharm": {
     "name": "#%%\n"
    }
   },
   "execution_count": 59,
   "outputs": []
  },
  {
   "cell_type": "raw",
   "source": [
    "STANDARDIZE FINAL SCORE"
   ],
   "metadata": {
    "collapsed": false,
    "pycharm": {
     "name": "#%% raw\n"
    }
   }
  },
  {
   "cell_type": "code",
   "execution_count": 61,
   "outputs": [],
   "source": [
    "df2[\"standardize_final_score\"] = (df2[\"final_score\"] - df2[\"final_score\"].min())/(df2[\"final_score\"].max()-df2[\"final_score\"].min())"
   ],
   "metadata": {
    "collapsed": false,
    "pycharm": {
     "name": "#%%\n"
    }
   }
  },
  {
   "cell_type": "code",
   "execution_count": 62,
   "outputs": [],
   "source": [
    "df2.to_csv(\"every_score_per_country.csv\")"
   ],
   "metadata": {
    "collapsed": false,
    "pycharm": {
     "name": "#%%\n"
    }
   }
  },
  {
   "cell_type": "code",
   "execution_count": null,
   "outputs": [],
   "source": [],
   "metadata": {
    "collapsed": false,
    "pycharm": {
     "name": "#%%\n"
    }
   }
  }
 ],
 "metadata": {
  "kernelspec": {
   "display_name": "Python 3",
   "language": "python",
   "name": "python3"
  },
  "language_info": {
   "codemirror_mode": {
    "name": "ipython",
    "version": 2
   },
   "file_extension": ".py",
   "mimetype": "text/x-python",
   "name": "python",
   "nbconvert_exporter": "python",
   "pygments_lexer": "ipython2",
   "version": "2.7.6"
  }
 },
 "nbformat": 4,
 "nbformat_minor": 0
}