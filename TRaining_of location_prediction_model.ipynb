{
 "cells": [
  {
   "cell_type": "code",
   "execution_count": 33,
   "metadata": {
    "collapsed": true
   },
   "outputs": [],
   "source": [
    "import pandas as pd"
   ]
  },
  {
   "cell_type": "code",
   "execution_count": 34,
   "outputs": [],
   "source": [
    "data = pd.read_excel(\"lat_long_country.xlsx\")"
   ],
   "metadata": {
    "collapsed": false,
    "pycharm": {
     "name": "#%%\n"
    }
   }
  },
  {
   "cell_type": "code",
   "execution_count": 35,
   "outputs": [],
   "source": [
    "df = data[[\"Lat\",\"Long\",\"Country/Region\"]]"
   ],
   "metadata": {
    "collapsed": false,
    "pycharm": {
     "name": "#%%\n"
    }
   }
  },
  {
   "cell_type": "code",
   "execution_count": 36,
   "outputs": [],
   "source": [
    "df2 = df.groupby([\"Country/Region\"]).median()"
   ],
   "metadata": {
    "collapsed": false,
    "pycharm": {
     "name": "#%%\n"
    }
   }
  },
  {
   "cell_type": "code",
   "execution_count": 37,
   "outputs": [
    {
     "data": {
      "text/plain": "                     Lat       Long\nCountry/Region                     \nEthiopia         9.14500   40.48970\nFinland         64.00000   26.00000\nFrance          10.09195  -25.45605\nFrench Guiana    3.93390  -53.12580\nGabon           -0.80370   11.60940\n...                  ...        ...\nUruguay        -32.52280  -55.76580\nUzbekistan      41.37750   64.58530\nVenezuela        6.42380  -66.58970\nVietnam         16.00000  108.00000\nZambia         -15.41670   28.28330\n\n[104 rows x 2 columns]",
      "text/html": "<div>\n<style scoped>\n    .dataframe tbody tr th:only-of-type {\n        vertical-align: middle;\n    }\n\n    .dataframe tbody tr th {\n        vertical-align: top;\n    }\n\n    .dataframe thead th {\n        text-align: right;\n    }\n</style>\n<table border=\"1\" class=\"dataframe\">\n  <thead>\n    <tr style=\"text-align: right;\">\n      <th></th>\n      <th>Lat</th>\n      <th>Long</th>\n    </tr>\n    <tr>\n      <th>Country/Region</th>\n      <th></th>\n      <th></th>\n    </tr>\n  </thead>\n  <tbody>\n    <tr>\n      <th>Ethiopia</th>\n      <td>9.14500</td>\n      <td>40.48970</td>\n    </tr>\n    <tr>\n      <th>Finland</th>\n      <td>64.00000</td>\n      <td>26.00000</td>\n    </tr>\n    <tr>\n      <th>France</th>\n      <td>10.09195</td>\n      <td>-25.45605</td>\n    </tr>\n    <tr>\n      <th>French Guiana</th>\n      <td>3.93390</td>\n      <td>-53.12580</td>\n    </tr>\n    <tr>\n      <th>Gabon</th>\n      <td>-0.80370</td>\n      <td>11.60940</td>\n    </tr>\n    <tr>\n      <th>...</th>\n      <td>...</td>\n      <td>...</td>\n    </tr>\n    <tr>\n      <th>Uruguay</th>\n      <td>-32.52280</td>\n      <td>-55.76580</td>\n    </tr>\n    <tr>\n      <th>Uzbekistan</th>\n      <td>41.37750</td>\n      <td>64.58530</td>\n    </tr>\n    <tr>\n      <th>Venezuela</th>\n      <td>6.42380</td>\n      <td>-66.58970</td>\n    </tr>\n    <tr>\n      <th>Vietnam</th>\n      <td>16.00000</td>\n      <td>108.00000</td>\n    </tr>\n    <tr>\n      <th>Zambia</th>\n      <td>-15.41670</td>\n      <td>28.28330</td>\n    </tr>\n  </tbody>\n</table>\n<p>104 rows × 2 columns</p>\n</div>"
     },
     "execution_count": 37,
     "metadata": {},
     "output_type": "execute_result"
    }
   ],
   "source": [
    "df2"
   ],
   "metadata": {
    "collapsed": false,
    "pycharm": {
     "name": "#%%\n"
    }
   }
  },
  {
   "cell_type": "code",
   "execution_count": 38,
   "outputs": [],
   "source": [
    "from sklearn import svm"
   ],
   "metadata": {
    "collapsed": false,
    "pycharm": {
     "name": "#%%\n"
    }
   }
  },
  {
   "cell_type": "code",
   "execution_count": 39,
   "outputs": [
    {
     "data": {
      "text/plain": "SVC()"
     },
     "execution_count": 39,
     "metadata": {},
     "output_type": "execute_result"
    }
   ],
   "source": [
    "model = svm.SVC()\n",
    "model.fit(df2[[\"Lat\",\"Long\"]],df2.index)"
   ],
   "metadata": {
    "collapsed": false,
    "pycharm": {
     "name": "#%%\n"
    }
   }
  },
  {
   "cell_type": "code",
   "execution_count": 42,
   "outputs": [],
   "source": [
    "df2.to_csv(\"lat_long_country.csv\")"
   ],
   "metadata": {
    "collapsed": false,
    "pycharm": {
     "name": "#%%\n"
    }
   }
  },
  {
   "cell_type": "code",
   "execution_count": 30,
   "outputs": [
    {
     "name": "stderr",
     "output_type": "stream",
     "text": [
      "/Users/gabriel.vannier/.pyenv/versions/3.8.10/envs/local_notebook/lib/python3.8/site-packages/sklearn/base.py:450: UserWarning: X does not have valid feature names, but SVC was fitted with feature names\n",
      "  warnings.warn(\n"
     ]
    },
    {
     "data": {
      "text/plain": "array(['Albania'], dtype=object)"
     },
     "execution_count": 30,
     "metadata": {},
     "output_type": "execute_result"
    }
   ],
   "source": [
    "model.predict([[40,20]])"
   ],
   "metadata": {
    "collapsed": false,
    "pycharm": {
     "name": "#%%\n"
    }
   }
  },
  {
   "cell_type": "code",
   "execution_count": 43,
   "outputs": [
    {
     "data": {
      "text/plain": "<bound method DataFrame.info of                      Lat       Long\nCountry/Region                     \nEthiopia         9.14500   40.48970\nFinland         64.00000   26.00000\nFrance          10.09195  -25.45605\nFrench Guiana    3.93390  -53.12580\nGabon           -0.80370   11.60940\n...                  ...        ...\nUruguay        -32.52280  -55.76580\nUzbekistan      41.37750   64.58530\nVenezuela        6.42380  -66.58970\nVietnam         16.00000  108.00000\nZambia         -15.41670   28.28330\n\n[104 rows x 2 columns]>"
     },
     "execution_count": 43,
     "metadata": {},
     "output_type": "execute_result"
    }
   ],
   "source": [
    "df2.info"
   ],
   "metadata": {
    "collapsed": false,
    "pycharm": {
     "name": "#%%\n"
    }
   }
  },
  {
   "cell_type": "code",
   "execution_count": null,
   "outputs": [],
   "source": [],
   "metadata": {
    "collapsed": false,
    "pycharm": {
     "name": "#%%\n"
    }
   }
  }
 ],
 "metadata": {
  "kernelspec": {
   "display_name": "Python 3",
   "language": "python",
   "name": "python3"
  },
  "language_info": {
   "codemirror_mode": {
    "name": "ipython",
    "version": 2
   },
   "file_extension": ".py",
   "mimetype": "text/x-python",
   "name": "python",
   "nbconvert_exporter": "python",
   "pygments_lexer": "ipython2",
   "version": "2.7.6"
  }
 },
 "nbformat": 4,
 "nbformat_minor": 0
}